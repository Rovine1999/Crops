{
  "cells": [
    {
      "cell_type": "markdown",
      "metadata": {
        "id": "TyqI5BOHN4cO",
        "papermill": {
          "duration": 0.035282,
          "end_time": "2022-01-19T05:43:01.444332",
          "exception": false,
          "start_time": "2022-01-19T05:43:01.409050",
          "status": "completed"
        },
        "tags": []
      },
      "source": [
        "# CROP RECOMMENDATION SYSTEM "
      ]
    },
    {
      "cell_type": "markdown",
      "metadata": {
        "id": "uYnItKd1N4cp",
        "papermill": {
          "duration": 0.034242,
          "end_time": "2022-01-19T05:43:01.511942",
          "exception": false,
          "start_time": "2022-01-19T05:43:01.477700",
          "status": "completed"
        },
        "tags": []
      },
      "source": [
        "![](https://images.unsplash.com/photo-1560493676-04071c5f467b?ixid=MXwxMjA3fDB8MHxwaG90by1wYWdlfHx8fGVufDB8fHw%3D&ixlib=rb-1.2.1&auto=format&fit=crop&w=968&q=80)"
      ]
    },
    {
      "cell_type": "markdown",
      "metadata": {
        "id": "Kp7-qoqBN4c9",
        "papermill": {
          "duration": 0.033018,
          "end_time": "2022-01-19T05:43:01.781873",
          "exception": false,
          "start_time": "2022-01-19T05:43:01.748855",
          "status": "completed"
        },
        "tags": []
      },
      "source": [
        "# Import data"
      ]
    },
    {
      "cell_type": "code",
      "execution_count": 1,
      "metadata": {
        "execution": {
          "iopub.execute_input": "2022-01-19T05:43:01.988303Z",
          "iopub.status.busy": "2022-01-19T05:43:01.987258Z",
          "iopub.status.idle": "2022-01-19T05:43:03.198329Z",
          "shell.execute_reply": "2022-01-19T05:43:03.197591Z"
        },
        "id": "QiiuMpezN4dM",
        "papermill": {
          "duration": 1.249177,
          "end_time": "2022-01-19T05:43:03.198482",
          "exception": false,
          "start_time": "2022-01-19T05:43:01.949305",
          "status": "completed"
        },
        "tags": []
      },
      "outputs": [],
      "source": [
        "# Importing libraries\n",
        "\n",
        "from __future__ import print_function\n",
        "import pandas as pd\n",
        "import numpy as np\n",
        "import matplotlib.pyplot as plt\n",
        "import seaborn as sns\n",
        "from sklearn.metrics import classification_report\n",
        "from sklearn import metrics\n",
        "from sklearn import tree\n",
        "import warnings\n",
        "warnings.filterwarnings('ignore')"
      ]
    },
    {
      "cell_type": "code",
      "execution_count": 2,
      "metadata": {
        "execution": {
          "iopub.execute_input": "2022-01-19T05:43:03.277905Z",
          "iopub.status.busy": "2022-01-19T05:43:03.277230Z",
          "iopub.status.idle": "2022-01-19T05:43:03.295749Z",
          "shell.execute_reply": "2022-01-19T05:43:03.296326Z"
        },
        "id": "tLpbM0_ON4dV",
        "papermill": {
          "duration": 0.064077,
          "end_time": "2022-01-19T05:43:03.296513",
          "exception": false,
          "start_time": "2022-01-19T05:43:03.232436",
          "status": "completed"
        },
        "tags": []
      },
      "outputs": [],
      "source": [
        "# PATH = '/content/drive/MyDrive/Data/Tasks/new_crop_data.csv'\n",
        "# df_crop_crop = pd.read_csv(PATH)\n",
        "#load the dataset\n",
        "df_crop = pd.read_csv('new_crop_data.csv')"
      ]
    },
    {
      "cell_type": "code",
      "execution_count": 3,
      "metadata": {
        "colab": {
          "base_uri": "https://localhost:8080/",
          "height": 206
        },
        "execution": {
          "iopub.execute_input": "2022-01-19T05:43:03.366922Z",
          "iopub.status.busy": "2022-01-19T05:43:03.366259Z",
          "iopub.status.idle": "2022-01-19T05:43:03.389191Z",
          "shell.execute_reply": "2022-01-19T05:43:03.389821Z"
        },
        "id": "6RGxhNkJN4dY",
        "outputId": "bf3034a6-7b98-4ddd-a41e-18472ab05c05",
        "papermill": {
          "duration": 0.059447,
          "end_time": "2022-01-19T05:43:03.389961",
          "exception": false,
          "start_time": "2022-01-19T05:43:03.330514",
          "status": "completed"
        },
        "tags": []
      },
      "outputs": [
        {
          "data": {
            "text/html": [
              "<div>\n",
              "<style scoped>\n",
              "    .dataframe tbody tr th:only-of-type {\n",
              "        vertical-align: middle;\n",
              "    }\n",
              "\n",
              "    .dataframe tbody tr th {\n",
              "        vertical-align: top;\n",
              "    }\n",
              "\n",
              "    .dataframe thead th {\n",
              "        text-align: right;\n",
              "    }\n",
              "</style>\n",
              "<table border=\"1\" class=\"dataframe\">\n",
              "  <thead>\n",
              "    <tr style=\"text-align: right;\">\n",
              "      <th></th>\n",
              "      <th>N</th>\n",
              "      <th>P</th>\n",
              "      <th>K</th>\n",
              "      <th>temperature</th>\n",
              "      <th>humidity</th>\n",
              "      <th>ph</th>\n",
              "      <th>rainfall</th>\n",
              "      <th>label</th>\n",
              "    </tr>\n",
              "  </thead>\n",
              "  <tbody>\n",
              "    <tr>\n",
              "      <th>0</th>\n",
              "      <td>90.0</td>\n",
              "      <td>42.0</td>\n",
              "      <td>43.0</td>\n",
              "      <td>20.879744</td>\n",
              "      <td>82.002744</td>\n",
              "      <td>6.502985</td>\n",
              "      <td>202.935536</td>\n",
              "      <td>maize</td>\n",
              "    </tr>\n",
              "    <tr>\n",
              "      <th>1</th>\n",
              "      <td>85.0</td>\n",
              "      <td>58.0</td>\n",
              "      <td>41.0</td>\n",
              "      <td>21.770462</td>\n",
              "      <td>80.319644</td>\n",
              "      <td>7.038096</td>\n",
              "      <td>226.655537</td>\n",
              "      <td>maize</td>\n",
              "    </tr>\n",
              "    <tr>\n",
              "      <th>2</th>\n",
              "      <td>60.0</td>\n",
              "      <td>55.0</td>\n",
              "      <td>44.0</td>\n",
              "      <td>23.004459</td>\n",
              "      <td>82.320763</td>\n",
              "      <td>7.840207</td>\n",
              "      <td>263.964248</td>\n",
              "      <td>maize</td>\n",
              "    </tr>\n",
              "    <tr>\n",
              "      <th>3</th>\n",
              "      <td>74.0</td>\n",
              "      <td>35.0</td>\n",
              "      <td>40.0</td>\n",
              "      <td>26.491096</td>\n",
              "      <td>80.158363</td>\n",
              "      <td>6.980401</td>\n",
              "      <td>242.864034</td>\n",
              "      <td>maize</td>\n",
              "    </tr>\n",
              "    <tr>\n",
              "      <th>4</th>\n",
              "      <td>78.0</td>\n",
              "      <td>42.0</td>\n",
              "      <td>42.0</td>\n",
              "      <td>20.130175</td>\n",
              "      <td>81.604873</td>\n",
              "      <td>7.628473</td>\n",
              "      <td>262.717340</td>\n",
              "      <td>maize</td>\n",
              "    </tr>\n",
              "  </tbody>\n",
              "</table>\n",
              "</div>"
            ],
            "text/plain": [
              "      N     P     K  temperature   humidity        ph    rainfall  label\n",
              "0  90.0  42.0  43.0    20.879744  82.002744  6.502985  202.935536  maize\n",
              "1  85.0  58.0  41.0    21.770462  80.319644  7.038096  226.655537  maize\n",
              "2  60.0  55.0  44.0    23.004459  82.320763  7.840207  263.964248  maize\n",
              "3  74.0  35.0  40.0    26.491096  80.158363  6.980401  242.864034  maize\n",
              "4  78.0  42.0  42.0    20.130175  81.604873  7.628473  262.717340  maize"
            ]
          },
          "execution_count": 3,
          "metadata": {},
          "output_type": "execute_result"
        }
      ],
      "source": [
        "df_crop.head()"
      ]
    },
    {
      "cell_type": "code",
      "execution_count": 26,
      "metadata": {},
      "outputs": [
        {
          "data": {
            "text/html": [
              "<div>\n",
              "<style scoped>\n",
              "    .dataframe tbody tr th:only-of-type {\n",
              "        vertical-align: middle;\n",
              "    }\n",
              "\n",
              "    .dataframe tbody tr th {\n",
              "        vertical-align: top;\n",
              "    }\n",
              "\n",
              "    .dataframe thead th {\n",
              "        text-align: right;\n",
              "    }\n",
              "</style>\n",
              "<table border=\"1\" class=\"dataframe\">\n",
              "  <thead>\n",
              "    <tr style=\"text-align: right;\">\n",
              "      <th></th>\n",
              "      <th>N</th>\n",
              "      <th>P</th>\n",
              "      <th>K</th>\n",
              "      <th>temperature</th>\n",
              "      <th>humidity</th>\n",
              "      <th>ph</th>\n",
              "      <th>rainfall</th>\n",
              "      <th>label</th>\n",
              "    </tr>\n",
              "  </thead>\n",
              "  <tbody>\n",
              "    <tr>\n",
              "      <th>2205</th>\n",
              "      <td>50.551818</td>\n",
              "      <td>53.362727</td>\n",
              "      <td>48.149091</td>\n",
              "      <td>25.616244</td>\n",
              "      <td>71.481779</td>\n",
              "      <td>6.46948</td>\n",
              "      <td>103.463655</td>\n",
              "      <td>tomatoes</td>\n",
              "    </tr>\n",
              "    <tr>\n",
              "      <th>2206</th>\n",
              "      <td>50.551818</td>\n",
              "      <td>53.362727</td>\n",
              "      <td>48.149091</td>\n",
              "      <td>25.616244</td>\n",
              "      <td>71.481779</td>\n",
              "      <td>6.46948</td>\n",
              "      <td>103.463655</td>\n",
              "      <td>avocado</td>\n",
              "    </tr>\n",
              "    <tr>\n",
              "      <th>2207</th>\n",
              "      <td>50.551818</td>\n",
              "      <td>53.362727</td>\n",
              "      <td>48.149091</td>\n",
              "      <td>25.616244</td>\n",
              "      <td>71.481779</td>\n",
              "      <td>6.46948</td>\n",
              "      <td>103.463655</td>\n",
              "      <td>napier grass</td>\n",
              "    </tr>\n",
              "    <tr>\n",
              "      <th>2208</th>\n",
              "      <td>50.551818</td>\n",
              "      <td>53.362727</td>\n",
              "      <td>48.149091</td>\n",
              "      <td>25.616244</td>\n",
              "      <td>71.481779</td>\n",
              "      <td>6.46948</td>\n",
              "      <td>103.463655</td>\n",
              "      <td>pasture grass</td>\n",
              "    </tr>\n",
              "    <tr>\n",
              "      <th>2209</th>\n",
              "      <td>50.551818</td>\n",
              "      <td>53.362727</td>\n",
              "      <td>48.149091</td>\n",
              "      <td>25.616244</td>\n",
              "      <td>71.481779</td>\n",
              "      <td>6.46948</td>\n",
              "      <td>103.463655</td>\n",
              "      <td>cucumber</td>\n",
              "    </tr>\n",
              "  </tbody>\n",
              "</table>\n",
              "</div>"
            ],
            "text/plain": [
              "              N          P          K  temperature   humidity       ph   \n",
              "2205  50.551818  53.362727  48.149091    25.616244  71.481779  6.46948  \\\n",
              "2206  50.551818  53.362727  48.149091    25.616244  71.481779  6.46948   \n",
              "2207  50.551818  53.362727  48.149091    25.616244  71.481779  6.46948   \n",
              "2208  50.551818  53.362727  48.149091    25.616244  71.481779  6.46948   \n",
              "2209  50.551818  53.362727  48.149091    25.616244  71.481779  6.46948   \n",
              "\n",
              "        rainfall          label  \n",
              "2205  103.463655       tomatoes  \n",
              "2206  103.463655        avocado  \n",
              "2207  103.463655   napier grass  \n",
              "2208  103.463655  pasture grass  \n",
              "2209  103.463655       cucumber  "
            ]
          },
          "execution_count": 26,
          "metadata": {},
          "output_type": "execute_result"
        }
      ],
      "source": [
        "df_crop.tail()"
      ]
    },
    {
      "cell_type": "code",
      "execution_count": 4,
      "metadata": {
        "colab": {
          "base_uri": "https://localhost:8080/"
        },
        "id": "DcV4vttGnY_9",
        "outputId": "13132fd7-3b67-4ec3-811f-0162b0eeae2b"
      },
      "outputs": [
        {
          "data": {
            "text/plain": [
              "array(['maize', 'coffee', 'beans', 'green peas', 'sugarcane', 'capsicum',\n",
              "       'onions', 'tomatoes', 'avocado', 'napier grass', 'pasture grass',\n",
              "       'cucumber'], dtype=object)"
            ]
          },
          "execution_count": 4,
          "metadata": {},
          "output_type": "execute_result"
        }
      ],
      "source": [
        "#print unique values in the crop column\n",
        "df_crop.label.unique()"
      ]
    },
    {
      "cell_type": "code",
      "execution_count": 5,
      "metadata": {
        "colab": {
          "base_uri": "https://localhost:8080/"
        },
        "execution": {
          "iopub.execute_input": "2022-01-19T05:43:03.549223Z",
          "iopub.status.busy": "2022-01-19T05:43:03.548570Z",
          "iopub.status.idle": "2022-01-19T05:43:03.551254Z",
          "shell.execute_reply": "2022-01-19T05:43:03.551808Z"
        },
        "id": "FEzVFm94N4dg",
        "outputId": "d29c9d8e-0c1f-4348-baa2-f85ae039cb6f",
        "papermill": {
          "duration": 0.042772,
          "end_time": "2022-01-19T05:43:03.551959",
          "exception": false,
          "start_time": "2022-01-19T05:43:03.509187",
          "status": "completed"
        },
        "tags": []
      },
      "outputs": [
        {
          "data": {
            "text/plain": [
              "17680"
            ]
          },
          "execution_count": 5,
          "metadata": {},
          "output_type": "execute_result"
        }
      ],
      "source": [
        "#print the size of the dataset\n",
        "df_crop.size"
      ]
    },
    {
      "cell_type": "code",
      "execution_count": 6,
      "metadata": {
        "colab": {
          "base_uri": "https://localhost:8080/"
        },
        "execution": {
          "iopub.execute_input": "2022-01-19T05:43:03.625424Z",
          "iopub.status.busy": "2022-01-19T05:43:03.624773Z",
          "iopub.status.idle": "2022-01-19T05:43:03.629241Z",
          "shell.execute_reply": "2022-01-19T05:43:03.629747Z"
        },
        "id": "mArTDOizN4di",
        "outputId": "cbd67809-7fdc-4de9-fd7a-3a8c8595296f",
        "papermill": {
          "duration": 0.042647,
          "end_time": "2022-01-19T05:43:03.629889",
          "exception": false,
          "start_time": "2022-01-19T05:43:03.587242",
          "status": "completed"
        },
        "tags": []
      },
      "outputs": [
        {
          "data": {
            "text/plain": [
              "(2210, 8)"
            ]
          },
          "execution_count": 6,
          "metadata": {},
          "output_type": "execute_result"
        }
      ],
      "source": [
        "#print the shape of the dataset\n",
        "df_crop.shape"
      ]
    },
    {
      "cell_type": "code",
      "execution_count": 7,
      "metadata": {
        "colab": {
          "base_uri": "https://localhost:8080/"
        },
        "execution": {
          "iopub.execute_input": "2022-01-19T05:43:03.706951Z",
          "iopub.status.busy": "2022-01-19T05:43:03.706277Z",
          "iopub.status.idle": "2022-01-19T05:43:03.710946Z",
          "shell.execute_reply": "2022-01-19T05:43:03.711421Z"
        },
        "id": "FiHtTPMjN4dk",
        "outputId": "c1e964f2-8487-4744-907c-bf7ada6f01ef",
        "papermill": {
          "duration": 0.045695,
          "end_time": "2022-01-19T05:43:03.711566",
          "exception": false,
          "start_time": "2022-01-19T05:43:03.665871",
          "status": "completed"
        },
        "tags": []
      },
      "outputs": [
        {
          "data": {
            "text/plain": [
              "Index(['N', 'P', 'K', 'temperature', 'humidity', 'ph', 'rainfall', 'label'], dtype='object')"
            ]
          },
          "execution_count": 7,
          "metadata": {},
          "output_type": "execute_result"
        }
      ],
      "source": [
        "df_crop.columns"
      ]
    },
    {
      "cell_type": "code",
      "execution_count": 8,
      "metadata": {
        "colab": {
          "base_uri": "https://localhost:8080/"
        },
        "execution": {
          "iopub.execute_input": "2022-01-19T05:43:03.790748Z",
          "iopub.status.busy": "2022-01-19T05:43:03.789984Z",
          "iopub.status.idle": "2022-01-19T05:43:03.793022Z",
          "shell.execute_reply": "2022-01-19T05:43:03.793556Z"
        },
        "id": "3WOvwDErN4dm",
        "outputId": "a547a889-c85f-4b9a-bea2-9cd7e7836697",
        "papermill": {
          "duration": 0.045836,
          "end_time": "2022-01-19T05:43:03.793698",
          "exception": false,
          "start_time": "2022-01-19T05:43:03.747862",
          "status": "completed"
        },
        "tags": []
      },
      "outputs": [
        {
          "data": {
            "text/plain": [
              "array(['maize', 'coffee', 'beans', 'green peas', 'sugarcane', 'capsicum',\n",
              "       'onions', 'tomatoes', 'avocado', 'napier grass', 'pasture grass',\n",
              "       'cucumber'], dtype=object)"
            ]
          },
          "execution_count": 8,
          "metadata": {},
          "output_type": "execute_result"
        }
      ],
      "source": [
        "df_crop['label'].unique()"
      ]
    },
    {
      "cell_type": "code",
      "execution_count": 9,
      "metadata": {
        "colab": {
          "base_uri": "https://localhost:8080/"
        },
        "execution": {
          "iopub.execute_input": "2022-01-19T05:43:03.885417Z",
          "iopub.status.busy": "2022-01-19T05:43:03.884415Z",
          "iopub.status.idle": "2022-01-19T05:43:03.889950Z",
          "shell.execute_reply": "2022-01-19T05:43:03.891023Z"
        },
        "id": "QVTNuE1CN4do",
        "outputId": "dd5ffdee-d79f-44a0-9d50-51f648c9d48c",
        "papermill": {
          "duration": 0.058842,
          "end_time": "2022-01-19T05:43:03.891178",
          "exception": false,
          "start_time": "2022-01-19T05:43:03.832336",
          "status": "completed"
        },
        "tags": []
      },
      "outputs": [
        {
          "data": {
            "text/plain": [
              "N              float64\n",
              "P              float64\n",
              "K              float64\n",
              "temperature    float64\n",
              "humidity       float64\n",
              "ph             float64\n",
              "rainfall       float64\n",
              "label           object\n",
              "dtype: object"
            ]
          },
          "execution_count": 9,
          "metadata": {},
          "output_type": "execute_result"
        }
      ],
      "source": [
        "df_crop.dtypes"
      ]
    },
    {
      "cell_type": "code",
      "execution_count": 10,
      "metadata": {
        "colab": {
          "base_uri": "https://localhost:8080/"
        },
        "execution": {
          "iopub.execute_input": "2022-01-19T05:43:03.975256Z",
          "iopub.status.busy": "2022-01-19T05:43:03.974231Z",
          "iopub.status.idle": "2022-01-19T05:43:03.980696Z",
          "shell.execute_reply": "2022-01-19T05:43:03.981294Z"
        },
        "id": "VBSODiD7N4dq",
        "outputId": "194266b5-7385-4056-8564-2c09784ecb2d",
        "papermill": {
          "duration": 0.050705,
          "end_time": "2022-01-19T05:43:03.981448",
          "exception": false,
          "start_time": "2022-01-19T05:43:03.930743",
          "status": "completed"
        },
        "tags": []
      },
      "outputs": [
        {
          "data": {
            "text/plain": [
              "label\n",
              "maize            2100\n",
              "coffee            100\n",
              "beans               1\n",
              "green peas          1\n",
              "sugarcane           1\n",
              "capsicum            1\n",
              "onions              1\n",
              "tomatoes            1\n",
              "avocado             1\n",
              "napier grass        1\n",
              "pasture grass       1\n",
              "cucumber            1\n",
              "Name: count, dtype: int64"
            ]
          },
          "execution_count": 10,
          "metadata": {},
          "output_type": "execute_result"
        }
      ],
      "source": [
        "#show the count of each category of unique values in the crop column\n",
        "df_crop['label'].value_counts()"
      ]
    },
    {
      "cell_type": "code",
      "execution_count": 11,
      "metadata": {
        "id": "UGWy9cl4swcK"
      },
      "outputs": [],
      "source": [
        "from sklearn.impute import SimpleImputer\n",
        "import numpy as np\n",
        "\n",
        "# Select only numeric columns\n",
        "numeric_columns = df_crop.select_dtypes(include=np.number).columns\n",
        "\n",
        "# Create an instance of SimpleImputer with strategy='mean'\n",
        "imputer = SimpleImputer(strategy='mean')\n",
        "\n",
        "# Fit the imputer on the numeric columns\n",
        "imputer.fit(df_crop[numeric_columns])\n",
        "\n",
        "# Transform and replace NaN values with column means for numeric columns\n",
        "df_crop[numeric_columns] = imputer.transform(df_crop[numeric_columns])\n"
      ]
    },
    {
      "cell_type": "markdown",
      "metadata": {
        "id": "hh4Z7tIzN4dv",
        "papermill": {
          "duration": 0.039153,
          "end_time": "2022-01-19T05:43:04.626871",
          "exception": false,
          "start_time": "2022-01-19T05:43:04.587718",
          "status": "completed"
        },
        "tags": []
      },
      "source": [
        "### Seperating features and target label"
      ]
    },
    {
      "cell_type": "code",
      "execution_count": 12,
      "metadata": {
        "execution": {
          "iopub.execute_input": "2022-01-19T05:43:04.711476Z",
          "iopub.status.busy": "2022-01-19T05:43:04.710837Z",
          "iopub.status.idle": "2022-01-19T05:43:04.716667Z",
          "shell.execute_reply": "2022-01-19T05:43:04.717198Z"
        },
        "id": "CFnDSuWiN4dx",
        "papermill": {
          "duration": 0.049985,
          "end_time": "2022-01-19T05:43:04.717341",
          "exception": false,
          "start_time": "2022-01-19T05:43:04.667356",
          "status": "completed"
        },
        "tags": []
      },
      "outputs": [],
      "source": [
        "features = df_crop[['N', 'P','K','temperature', 'humidity', 'ph', 'rainfall']]\n",
        "target = df_crop['label']\n",
        "labels = df_crop['label']"
      ]
    },
    {
      "cell_type": "code",
      "execution_count": 13,
      "metadata": {
        "execution": {
          "iopub.execute_input": "2022-01-19T05:43:04.800353Z",
          "iopub.status.busy": "2022-01-19T05:43:04.799714Z",
          "iopub.status.idle": "2022-01-19T05:43:04.803063Z",
          "shell.execute_reply": "2022-01-19T05:43:04.803702Z"
        },
        "id": "qoiGq_fiN4dy",
        "papermill": {
          "duration": 0.046447,
          "end_time": "2022-01-19T05:43:04.803839",
          "exception": false,
          "start_time": "2022-01-19T05:43:04.757392",
          "status": "completed"
        },
        "tags": []
      },
      "outputs": [],
      "source": [
        "# Initializing empty lists to append all model's name and corresponding name\n",
        "acc = []\n",
        "model = []"
      ]
    },
    {
      "attachments": {},
      "cell_type": "markdown",
      "metadata": {},
      "source": [
        "# Modelling"
      ]
    },
    {
      "cell_type": "code",
      "execution_count": 14,
      "metadata": {
        "execution": {
          "iopub.execute_input": "2022-01-19T05:43:04.887640Z",
          "iopub.status.busy": "2022-01-19T05:43:04.887024Z",
          "iopub.status.idle": "2022-01-19T05:43:04.895733Z",
          "shell.execute_reply": "2022-01-19T05:43:04.896261Z"
        },
        "id": "SFVNlq3yN4d0",
        "papermill": {
          "duration": 0.0525,
          "end_time": "2022-01-19T05:43:04.896431",
          "exception": false,
          "start_time": "2022-01-19T05:43:04.843931",
          "status": "completed"
        },
        "tags": []
      },
      "outputs": [],
      "source": [
        "# Splitting into train and test data\n",
        "\n",
        "from sklearn.model_selection import train_test_split\n",
        "Xtrain, Xtest, Ytrain, Ytest = train_test_split(features,target,test_size = 0.2,random_state =2)"
      ]
    },
    {
      "cell_type": "markdown",
      "metadata": {
        "id": "9fNZ_KnZN4d1",
        "papermill": {
          "duration": 0.039474,
          "end_time": "2022-01-19T05:43:04.975940",
          "exception": false,
          "start_time": "2022-01-19T05:43:04.936466",
          "status": "completed"
        },
        "tags": []
      },
      "source": [
        "# Decision Tree"
      ]
    },
    {
      "cell_type": "code",
      "execution_count": 15,
      "metadata": {
        "colab": {
          "base_uri": "https://localhost:8080/"
        },
        "execution": {
          "iopub.execute_input": "2022-01-19T05:43:05.068239Z",
          "iopub.status.busy": "2022-01-19T05:43:05.067596Z",
          "iopub.status.idle": "2022-01-19T05:43:05.124928Z",
          "shell.execute_reply": "2022-01-19T05:43:05.124305Z"
        },
        "id": "MsroY_YzN4d3",
        "outputId": "23283ded-4d32-4244-e354-c64b072e42d3",
        "papermill": {
          "duration": 0.107583,
          "end_time": "2022-01-19T05:43:05.125047",
          "exception": false,
          "start_time": "2022-01-19T05:43:05.017464",
          "status": "completed"
        },
        "tags": []
      },
      "outputs": [
        {
          "name": "stdout",
          "output_type": "stream",
          "text": [
            "DecisionTrees's Accuracy is:  99.3212669683258\n",
            "              precision    recall  f1-score   support\n",
            "\n",
            "     avocado       0.00      0.00      0.00         0\n",
            "      coffee       1.00      1.00      1.00        19\n",
            "    cucumber       0.00      0.00      0.00         1\n",
            "       maize       1.00      1.00      1.00       420\n",
            "   sugarcane       0.00      0.00      0.00         1\n",
            "    tomatoes       0.00      0.00      0.00         1\n",
            "\n",
            "    accuracy                           0.99       442\n",
            "   macro avg       0.33      0.33      0.33       442\n",
            "weighted avg       0.99      0.99      0.99       442\n",
            "\n"
          ]
        }
      ],
      "source": [
        "from sklearn.tree import DecisionTreeClassifier\n",
        "\n",
        "DecisionTree = DecisionTreeClassifier(criterion=\"entropy\",random_state=2,max_depth=5)\n",
        "\n",
        "DecisionTree.fit(Xtrain,Ytrain)\n",
        "\n",
        "predicted_values = DecisionTree.predict(Xtest)\n",
        "x = metrics.accuracy_score(Ytest, predicted_values)\n",
        "acc.append(x)\n",
        "model.append('Decision Tree')\n",
        "print(\"DecisionTrees's Accuracy is: \", x*100)\n",
        "\n",
        "print(classification_report(Ytest,predicted_values))"
      ]
    },
    {
      "attachments": {},
      "cell_type": "markdown",
      "metadata": {},
      "source": [
        "### Scoring the model"
      ]
    },
    {
      "cell_type": "code",
      "execution_count": 16,
      "metadata": {
        "execution": {
          "iopub.execute_input": "2022-01-19T05:43:05.210871Z",
          "iopub.status.busy": "2022-01-19T05:43:05.210173Z",
          "iopub.status.idle": "2022-01-19T05:43:05.213210Z",
          "shell.execute_reply": "2022-01-19T05:43:05.212618Z"
        },
        "id": "bq41Gld0N4d5",
        "papermill": {
          "duration": 0.047814,
          "end_time": "2022-01-19T05:43:05.213339",
          "exception": false,
          "start_time": "2022-01-19T05:43:05.165525",
          "status": "completed"
        },
        "tags": []
      },
      "outputs": [],
      "source": [
        "from sklearn.model_selection import cross_val_score"
      ]
    },
    {
      "cell_type": "code",
      "execution_count": 17,
      "metadata": {
        "execution": {
          "iopub.execute_input": "2022-01-19T05:43:05.298456Z",
          "iopub.status.busy": "2022-01-19T05:43:05.297795Z",
          "iopub.status.idle": "2022-01-19T05:43:05.456864Z",
          "shell.execute_reply": "2022-01-19T05:43:05.456278Z"
        },
        "id": "0bytpLgeN4d7",
        "papermill": {
          "duration": 0.202782,
          "end_time": "2022-01-19T05:43:05.456995",
          "exception": false,
          "start_time": "2022-01-19T05:43:05.254213",
          "status": "completed"
        },
        "tags": []
      },
      "outputs": [],
      "source": [
        "# Cross validation score (Decision Tree)\n",
        "score = cross_val_score(DecisionTree, features, target,cv=5)"
      ]
    },
    {
      "cell_type": "code",
      "execution_count": 18,
      "metadata": {
        "colab": {
          "base_uri": "https://localhost:8080/"
        },
        "execution": {
          "iopub.execute_input": "2022-01-19T05:43:05.545867Z",
          "iopub.status.busy": "2022-01-19T05:43:05.545124Z",
          "iopub.status.idle": "2022-01-19T05:43:05.549090Z",
          "shell.execute_reply": "2022-01-19T05:43:05.548565Z"
        },
        "id": "Qo8XxZt8N4d8",
        "outputId": "029842e3-2891-4e88-99e2-701ef709cf19",
        "papermill": {
          "duration": 0.049706,
          "end_time": "2022-01-19T05:43:05.549201",
          "exception": false,
          "start_time": "2022-01-19T05:43:05.499495",
          "status": "completed"
        },
        "tags": []
      },
      "outputs": [
        {
          "data": {
            "text/plain": [
              "array([0.99547511, 0.99547511, 0.99547511, 0.99547511, 0.97963801])"
            ]
          },
          "execution_count": 18,
          "metadata": {},
          "output_type": "execute_result"
        }
      ],
      "source": [
        "score"
      ]
    },
    {
      "cell_type": "markdown",
      "metadata": {
        "id": "TnGKcfLwN4d9",
        "papermill": {
          "duration": 0.041656,
          "end_time": "2022-01-19T05:43:05.633034",
          "exception": false,
          "start_time": "2022-01-19T05:43:05.591378",
          "status": "completed"
        },
        "tags": []
      },
      "source": [
        "### Saving trained Decision Tree model"
      ]
    },
    {
      "cell_type": "code",
      "execution_count": 19,
      "metadata": {
        "execution": {
          "iopub.execute_input": "2022-01-19T05:43:05.719833Z",
          "iopub.status.busy": "2022-01-19T05:43:05.719107Z",
          "iopub.status.idle": "2022-01-19T05:43:05.724082Z",
          "shell.execute_reply": "2022-01-19T05:43:05.724645Z"
        },
        "id": "6A2LB8TJN4eE",
        "papermill": {
          "duration": 0.050537,
          "end_time": "2022-01-19T05:43:05.724796",
          "exception": false,
          "start_time": "2022-01-19T05:43:05.674259",
          "status": "completed"
        },
        "tags": []
      },
      "outputs": [],
      "source": [
        "import joblib\n",
        "# Dump the trained classifier with joblib\n",
        "DT_pkl_filename = 'DecisionTree.pkl'\n",
        "# Open the file to save as pkl file\n",
        "joblib.dump(DecisionTree, DT_pkl_filename)\n",
        "\n",
        "saved_model = joblib.load(DT_pkl_filename)"
      ]
    },
    {
      "cell_type": "markdown",
      "metadata": {
        "id": "-WmMFqSEN4fX",
        "papermill": {
          "duration": 0.048751,
          "end_time": "2022-01-19T05:43:17.522918",
          "exception": false,
          "start_time": "2022-01-19T05:43:17.474167",
          "status": "completed"
        },
        "tags": []
      },
      "source": [
        "## Making a prediction"
      ]
    },
    {
      "cell_type": "code",
      "execution_count": 20,
      "metadata": {
        "colab": {
          "base_uri": "https://localhost:8080/"
        },
        "execution": {
          "iopub.execute_input": "2022-01-19T05:43:17.624603Z",
          "iopub.status.busy": "2022-01-19T05:43:17.623879Z",
          "iopub.status.idle": "2022-01-19T05:43:17.632695Z",
          "shell.execute_reply": "2022-01-19T05:43:17.633186Z"
        },
        "id": "vVhGbHM4N4fZ",
        "outputId": "4deca3a1-28c2-4bf3-ddc7-7fbf5d160680",
        "papermill": {
          "duration": 0.061397,
          "end_time": "2022-01-19T05:43:17.633348",
          "exception": false,
          "start_time": "2022-01-19T05:43:17.571951",
          "status": "completed"
        },
        "tags": []
      },
      "outputs": [
        {
          "name": "stdout",
          "output_type": "stream",
          "text": [
            "['maize']\n"
          ]
        }
      ],
      "source": [
        "data = np.array([[10, 18, 30, 23.603016, 60.3, 6.7, 140.91]])\n",
        "prediction = saved_model.predict(data)\n",
        "print(prediction)"
      ]
    },
    {
      "cell_type": "code",
      "execution_count": 21,
      "metadata": {
        "colab": {
          "base_uri": "https://localhost:8080/"
        },
        "execution": {
          "iopub.execute_input": "2022-01-19T05:43:17.736854Z",
          "iopub.status.busy": "2022-01-19T05:43:17.736095Z",
          "iopub.status.idle": "2022-01-19T05:43:17.746276Z",
          "shell.execute_reply": "2022-01-19T05:43:17.746821Z"
        },
        "id": "VFJUtr6PN4fz",
        "outputId": "fd6545a0-9858-470f-e80e-7ef56cbb2e2f",
        "papermill": {
          "duration": 0.064038,
          "end_time": "2022-01-19T05:43:17.746979",
          "exception": false,
          "start_time": "2022-01-19T05:43:17.682941",
          "status": "completed"
        },
        "tags": []
      },
      "outputs": [
        {
          "name": "stdout",
          "output_type": "stream",
          "text": [
            "['coffee']\n"
          ]
        }
      ],
      "source": [
        "data = np.array([[83, 45, 60, 28, 70.3, 7.0, 150.9]])\n",
        "prediction = saved_model.predict(data)\n",
        "print(prediction)"
      ]
    },
    {
      "attachments": {},
      "cell_type": "markdown",
      "metadata": {},
      "source": [
        "# Guassian Naive Bayes"
      ]
    },
    {
      "cell_type": "code",
      "execution_count": 22,
      "metadata": {},
      "outputs": [
        {
          "name": "stdout",
          "output_type": "stream",
          "text": [
            "Naive Bayes's Accuracy is:  0.9886877828054299\n",
            "              precision    recall  f1-score   support\n",
            "\n",
            "     avocado       0.00      0.00      0.00         0\n",
            "      coffee       0.90      1.00      0.95        19\n",
            "    cucumber       0.00      0.00      0.00         1\n",
            "       maize       1.00      1.00      1.00       420\n",
            "   sugarcane       0.00      0.00      0.00         1\n",
            "    tomatoes       0.00      0.00      0.00         1\n",
            "\n",
            "    accuracy                           0.99       442\n",
            "   macro avg       0.32      0.33      0.32       442\n",
            "weighted avg       0.99      0.99      0.99       442\n",
            "\n"
          ]
        }
      ],
      "source": [
        "from sklearn.naive_bayes import GaussianNB\n",
        "\n",
        "NaiveBayes = GaussianNB()\n",
        "\n",
        "NaiveBayes.fit(Xtrain,Ytrain)\n",
        "\n",
        "predicted_values = NaiveBayes.predict(Xtest)\n",
        "x = metrics.accuracy_score(Ytest, predicted_values)\n",
        "acc.append(x)\n",
        "model.append('Naive Bayes')\n",
        "print(\"Naive Bayes's Accuracy is: \", x)\n",
        "\n",
        "print(classification_report(Ytest,predicted_values))"
      ]
    },
    {
      "cell_type": "code",
      "execution_count": 23,
      "metadata": {},
      "outputs": [
        {
          "data": {
            "text/plain": [
              "array([0.99547511, 0.99547511, 0.99547511, 0.99547511, 0.98868778])"
            ]
          },
          "execution_count": 23,
          "metadata": {},
          "output_type": "execute_result"
        }
      ],
      "source": [
        "# Cross validation score (NaiveBayes)\n",
        "score = cross_val_score(NaiveBayes,features,target,cv=5)\n",
        "score"
      ]
    },
    {
      "attachments": {},
      "cell_type": "markdown",
      "metadata": {},
      "source": [
        "# Saving Guassian Naive Bayes Model"
      ]
    },
    {
      "cell_type": "code",
      "execution_count": 24,
      "metadata": {},
      "outputs": [],
      "source": [
        "import pickle\n",
        "# Dump the trained Naive Bayes classifier with Pickle\n",
        "NB_pkl_filename = 'NBClassifier.pkl'\n",
        "# Open the file to save as pkl file\n",
        "NB_Model_pkl = open(NB_pkl_filename, 'wb')\n",
        "pickle.dump(NaiveBayes, NB_Model_pkl)\n",
        "# Close the pickle instances\n",
        "NB_Model_pkl.close()"
      ]
    },
    {
      "attachments": {},
      "cell_type": "markdown",
      "metadata": {},
      "source": [
        "# Exporting the models"
      ]
    },
    {
      "cell_type": "markdown",
      "metadata": {},
      "source": [
        "# export the decision tree model\n",
        "from sklearn import tree\n",
        "tree.export_graphviz(DecisionTree, out_file='tree.dot',\n",
        "                      feature_names=['N', 'P','K','temperature', 'humidity', 'ph', 'rainfall'], class_names=sorted(Ytrain.unique()), label='all', rounded=True, filled=True)"
      ]
    },
    {
      "cell_type": "code",
      "execution_count": null,
      "metadata": {},
      "outputs": [],
      "source": []
    }
  ],
  "metadata": {
    "colab": {
      "provenance": []
    },
    "kernelspec": {
      "display_name": "Python 3",
      "language": "python",
      "name": "python3"
    },
    "language_info": {
      "codemirror_mode": {
        "name": "ipython",
        "version": 3
      },
      "file_extension": ".py",
      "mimetype": "text/x-python",
      "name": "python",
      "nbconvert_exporter": "python",
      "pygments_lexer": "ipython3",
      "version": "3.11.3"
    },
    "papermill": {
      "duration": 21.35152,
      "end_time": "2022-01-19T05:43:18.107695",
      "environment_variables": {},
      "exception": null,
      "input_path": "__notebook__.ipynb",
      "output_path": "__notebook__.ipynb",
      "parameters": {},
      "start_time": "2022-01-19T05:42:56.756175",
      "version": "2.1.0"
    }
  },
  "nbformat": 4,
  "nbformat_minor": 0
}
